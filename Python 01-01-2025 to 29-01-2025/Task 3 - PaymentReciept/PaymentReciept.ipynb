{
 "cells": [
  {
   "cell_type": "code",
   "execution_count": null,
   "metadata": {
    "vscode": {
     "languageId": "plaintext"
    }
   },
   "outputs": [],
   "source": [
    "\"\"\"\n",
    "Creating paymet receipts is a pretty common task, be it an\n",
    "e-commerce website or any local store  for that matter.\n",
    "\n",
    "Here, you have to create our own transaction receiptsjust by using\n",
    "python. We would be using reportlab to generate PDFs. Generally, it commerce\n",
    "comes as a builtin package but sometimes\n",
    "\"\"\""
   ]
  }
 ],
 "metadata": {
  "language_info": {
   "name": "python"
  }
 },
 "nbformat": 4,
 "nbformat_minor": 2
}
